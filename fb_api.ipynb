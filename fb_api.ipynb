{
  "nbformat": 4,
  "nbformat_minor": 0,
  "metadata": {
    "colab": {
      "name": "fb api.ipynb",
      "provenance": [],
      "collapsed_sections": []
    },
    "kernelspec": {
      "name": "python3",
      "display_name": "Python 3"
    },
    "language_info": {
      "name": "python"
    }
  },
  "cells": [
    {
      "cell_type": "markdown",
      "source": [
        "**Fields to the code with the params of the FB Marketing ADS api**\n",
        "⛹"
      ],
      "metadata": {
        "id": "-HhpGU_8mBZE"
      }
    },
    {
      "cell_type": "code",
      "source": [
        "import urllib.parse\n",
        "import requests\n",
        "import os\n",
        "import pandas as pd\n",
        "import json\n",
        "import matplotlib.pyplot as plt\n"
      ],
      "metadata": {
        "id": "XcNpzEaTmPkY"
      },
      "execution_count": null,
      "outputs": []
    },
    {
      "cell_type": "code",
      "execution_count": null,
      "metadata": {
        "id": "HoTXBsfsk3MQ"
      },
      "outputs": [],
      "source": [
        "access_token= \"EAAOGwXnb0m4BAHEX8r32NYmQIwwsXen6me1I0QmX1nbFOGkE6gyrVvWMEXsWKxKrEzxxpdjJs7ZACzJTvFTcuTZCsZB0djHWs9eQT7EQ0Byx9HPCfLQgohpV8bGcsJfoewEsAZBZBUpnaRrOTGyOH5jxp3UHUcAhLUGKxZAl5QYXTdKMhxHVTR8fxHUbT9vZCAYsklQ8aaZCNZB9EGqZAjoGNPHZBDkNRBrDTXnyM6f4aDzBO6UUJw0smlG\""
      ]
    },
    {
      "cell_type": "code",
      "source": [
        "# FB_Data_Access = {\n",
        "# \"fb_api\" : \"https://graph.facebook.com/v13.0\",\n",
        "# \"account\" : \"/act_1666965496657317\",\n",
        "# \"scope\" : \"/insights\",\n",
        "# \"date\" : \"?date_preset=last_year&\",\n",
        "# \"fields\" : \"campaign_name,reach,cpc,spend\",\n",
        "# \"level\" : \"campaign\" ,\n",
        "# \"breakdowns\":[\"age\",\"gender\"]\n",
        "# }"
      ],
      "metadata": {
        "id": "QkHV6TnHoTF7"
      },
      "execution_count": null,
      "outputs": []
    },
    {
      "cell_type": "code",
      "source": [
        "jsonT= requests.get(\"https://graph.facebook.com/v13.0/act_1666965496657317/insights?date_preset=last_year&fields=%20campaign_name%2Creach%2Ccpc%2Cspend&level=campaign&breakdowns=%5B%22age%22%2C%22gender%22%5D&access_token=EAAOGwXnb0m4BAHEX8r32NYmQIwwsXen6me1I0QmX1nbFOGkE6gyrVvWMEXsWKxKrEzxxpdjJs7ZACzJTvFTcuTZCsZB0djHWs9eQT7EQ0Byx9HPCfLQgohpV8bGcsJfoewEsAZBZBUpnaRrOTGyOH5jxp3UHUcAhLUGKxZAl5QYXTdKMhxHVTR8fxHUbT9vZCAYsklQ8aaZCNZB9EGqZAjoGNPHZBDkNRBrDTXnyM6f4aDzBO6UUJw0smlG\").json()\n",
        "jsonT"
      ],
      "metadata": {
        "id": "0kozddKjpWXF"
      },
      "execution_count": null,
      "outputs": []
    },
    {
      "cell_type": "code",
      "source": [
        "try:\n",
        "    import urlparse\n",
        "    from urllib import urlencode\n",
        "except: # For Python 3\n",
        "    import urllib.parse as urlparse\n",
        "    from urllib.parse import urlencode\n",
        "\n",
        "url = \"https://graph.facebook.com/v13.0/act_1666965496657317/insights?\"\n",
        "params = {'date_preset':'last_year','fields':'campaign_name,reach,cpc,spend',\"level\": \"campaign\", \"breakdowns\": [\"age\",\"gender\"],\"access_token\": access_token }\n",
        "\n",
        "url_parts = list(urlparse.urlparse(url))\n",
        "query = dict(urlparse.parse_qsl(url_parts[4]))\n",
        "query.update(params)\n",
        "\n",
        "url_parts[4] = urlencode(query)\n",
        "full_url = urlparse.urlunparse(url_parts)\n",
        "print(full)\n"
      ],
      "metadata": {
        "colab": {
          "base_uri": "https://localhost:8080/"
        },
        "id": "Gq_hGpR3sGQe",
        "outputId": "4a9f5266-bcab-42a3-c1f8-50b378070a53"
      },
      "execution_count": null,
      "outputs": [
        {
          "output_type": "stream",
          "name": "stdout",
          "text": [
            "https://graph.facebook.com/v13.0/act_1666965496657317/insights?date_preset=last_year&fields=campaign_name%2Creach%2Ccpc%2Cspend&level=campaign&breakdowns=%5B%27age%27%2C+%27gender%27%5D&access_token=EAAOGwXnb0m4BAHEX8r32NYmQIwwsXen6me1I0QmX1nbFOGkE6gyrVvWMEXsWKxKrEzxxpdjJs7ZACzJTvFTcuTZCsZB0djHWs9eQT7EQ0Byx9HPCfLQgohpV8bGcsJfoewEsAZBZBUpnaRrOTGyOH5jxp3UHUcAhLUGKxZAl5QYXTdKMhxHVTR8fxHUbT9vZCAYsklQ8aaZCNZB9EGqZAjoGNPHZBDkNRBrDTXnyM6f4aDzBO6UUJw0smlG\n"
          ]
        }
      ]
    },
    {
      "cell_type": "code",
      "source": [
        "jsonCall = requests.get(full_url).json()\n",
        "df = pd.DataFrame(jsonCall[\"data\"])\n",
        "print(pd.DataFrame(jsonCall[\"data\"]).head())\n",
        "df.to_csv(index=False)"
      ],
      "metadata": {
        "colab": {
          "base_uri": "https://localhost:8080/",
          "height": 365
        },
        "id": "DenkMa0Xs53q",
        "outputId": "f23e31ac-db87-4b77-f8e3-0624f07ba1ef"
      },
      "execution_count": null,
      "outputs": [
        {
          "output_type": "stream",
          "name": "stdout",
          "text": [
            "                                       campaign_name reach  spend  date_start  \\\n",
            "0  [11/01/2021] Promoting https://open.spotify.co...    69   2.74  2021-01-01   \n",
            "1  [11/01/2021] Promoting https://open.spotify.co...   193   17.4  2021-01-01   \n",
            "2  [11/01/2021] Promoting https://open.spotify.co...     6    0.5  2021-01-01   \n",
            "3  [11/01/2021] Promoting https://open.spotify.co...   161   9.06  2021-01-01   \n",
            "4  [11/01/2021] Promoting https://open.spotify.co...   782  78.61  2021-01-01   \n",
            "\n",
            "    date_stop    age   gender       cpc  \n",
            "0  2021-12-31  18-24   female       NaN  \n",
            "1  2021-12-31  18-24     male       5.8  \n",
            "2  2021-12-31  18-24  unknown       0.5  \n",
            "3  2021-12-31  25-34   female      9.06  \n",
            "4  2021-12-31  25-34     male  4.367222  \n"
          ]
        },
        {
          "output_type": "execute_result",
          "data": {
            "text/plain": [
              "'campaign_name,reach,spend,date_start,date_stop,age,gender,cpc\\n[11/01/2021] Promoting https://open.spotify.com/artist/6Jd64Mv9B5XAVV2jP0WRRt?si=RYg5M3pZT7W9THUJcDEwbw,69,2.74,2021-01-01,2021-12-31,18-24,female,\\n[11/01/2021] Promoting https://open.spotify.com/artist/6Jd64Mv9B5XAVV2jP0WRRt?si=RYg5M3pZT7W9THUJcDEwbw,193,17.4,2021-01-01,2021-12-31,18-24,male,5.8\\n[11/01/2021] Promoting https://open.spotify.com/artist/6Jd64Mv9B5XAVV2jP0WRRt?si=RYg5M3pZT7W9THUJcDEwbw,6,0.5,2021-01-01,2021-12-31,18-24,unknown,0.5\\n[11/01/2021] Promoting https://open.spotify.com/artist/6Jd64Mv9B5XAVV2jP0WRRt?si=RYg5M3pZT7W9THUJcDEwbw,161,9.06,2021-01-01,2021-12-31,25-34,female,9.06\\n[11/01/2021] Promoting https://open.spotify.com/artist/6Jd64Mv9B5XAVV2jP0WRRt?si=RYg5M3pZT7W9THUJcDEwbw,782,78.61,2021-01-01,2021-12-31,25-34,male,4.367222\\n[11/01/2021] Promoting https://open.spotify.com/artist/6Jd64Mv9B5XAVV2jP0WRRt?si=RYg5M3pZT7W9THUJcDEwbw,14,1.34,2021-01-01,2021-12-31,25-34,unknown,\\n[11/01/2021] Promoting https://open.spotify.com/artist/6Jd64Mv9B5XAVV2jP0WRRt?si=RYg5M3pZT7W9THUJcDEwbw,20,3.39,2021-01-01,2021-12-31,35-44,female,3.39\\n[11/01/2021] Promoting https://open.spotify.com/artist/6Jd64Mv9B5XAVV2jP0WRRt?si=RYg5M3pZT7W9THUJcDEwbw,102,10.17,2021-01-01,2021-12-31,35-44,male,5.085\\n[Ipad 8tava generacion 6k] Publicación de Marketplace promocionada el 22/12/2021,444,1.42,2021-01-01,2021-12-31,18-24,female,0.236667\\n[Ipad 8tava generacion 6k] Publicación de Marketplace promocionada el 22/12/2021,1672,5.84,2021-01-01,2021-12-31,18-24,male,0.1825\\n[Ipad 8tava generacion 6k] Publicación de Marketplace promocionada el 22/12/2021,4,0,2021-01-01,2021-12-31,18-24,unknown,\\n[Ipad 8tava generacion 6k] Publicación de Marketplace promocionada el 22/12/2021,588,2.05,2021-01-01,2021-12-31,25-34,female,0.292857\\n[Ipad 8tava generacion 6k] Publicación de Marketplace promocionada el 22/12/2021,2006,9.15,2021-01-01,2021-12-31,25-34,male,0.305\\n[Ipad 8tava generacion 6k] Publicación de Marketplace promocionada el 22/12/2021,4,0.05,2021-01-01,2021-12-31,25-34,unknown,\\n[Ipad 8tava generacion 6k] Publicación de Marketplace promocionada el 22/12/2021,294,1.41,2021-01-01,2021-12-31,35-44,female,0.282\\n[Ipad 8tava generacion 6k] Publicación de Marketplace promocionada el 22/12/2021,1130,7.01,2021-01-01,2021-12-31,35-44,male,0.318636\\n[Ipad 8tava generacion 6k] Publicación de Marketplace promocionada el 22/12/2021,7,0.01,2021-01-01,2021-12-31,35-44,unknown,\\n[Ipad 8tava generacion 6k] Publicación de Marketplace promocionada el 22/12/2021,118,0.53,2021-01-01,2021-12-31,45-54,female,0.1325\\n[Ipad 8tava generacion 6k] Publicación de Marketplace promocionada el 22/12/2021,510,2.08,2021-01-01,2021-12-31,45-54,male,0.26\\n[Ipad 8tava generacion 6k] Publicación de Marketplace promocionada el 22/12/2021,3,0.03,2021-01-01,2021-12-31,45-54,unknown,\\n[Ipad 8tava generacion 6k] Publicación de Marketplace promocionada el 22/12/2021,30,0.82,2021-01-01,2021-12-31,55-64,female,0.41\\n[Ipad 8tava generacion 6k] Publicación de Marketplace promocionada el 22/12/2021,168,1.2,2021-01-01,2021-12-31,55-64,male,0.2\\n[Ipad 8tava generacion 6k] Publicación de Marketplace promocionada el 22/12/2021,18,0.13,2021-01-01,2021-12-31,65+,female,0.13\\n[Ipad 8tava generacion 6k] Publicación de Marketplace promocionada el 22/12/2021,104,0.93,2021-01-01,2021-12-31,65+,male,0.31\\n'"
            ],
            "application/vnd.google.colaboratory.intrinsic+json": {
              "type": "string"
            }
          },
          "metadata": {},
          "execution_count": 130
        }
      ]
    },
    {
      "cell_type": "code",
      "source": [
        "from pathlib import Path  \n",
        "filepath = Path('folder/subfolder/out.csv')  \n",
        "filepath.parent.mkdir(parents=True, exist_ok=True)  \n",
        "df.to_csv(filepath)  \n",
        "\n",
        "# from google.colab import files\n",
        "# files.download(\"out.csv\")"
      ],
      "metadata": {
        "id": "uvsYD77k2Z77"
      },
      "execution_count": null,
      "outputs": []
    }
  ]
}