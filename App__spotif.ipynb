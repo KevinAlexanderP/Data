{
  "nbformat": 4,
  "nbformat_minor": 0,
  "metadata": {
    "colab": {
      "name": "App__spotif.ipynb",
      "provenance": [],
      "collapsed_sections": []
    },
    "kernelspec": {
      "name": "python3",
      "display_name": "Python 3"
    },
    "language_info": {
      "name": "python"
    }
  },
  "cells": [
    {
      "cell_type": "markdown",
      "source": [
        "# Analisis Estrategico de musica en Spotify\n",
        "#Strategic analysis of music on Spotify"
      ],
      "metadata": {
        "id": "1QZadyHJJua3"
      }
    },
    {
      "cell_type": "markdown",
      "source": [
        "Spanish : Importamos las librerias más ocupadas para nuestro analisis las cuales seran numpy y pandas\n",
        "\n",
        "English : We import the most important libraries for our analysis which will be numpy and pandas"
      ],
      "metadata": {
        "id": "aXcx9MMaJliA"
      }
    },
    {
      "cell_type": "code",
      "metadata": {
        "id": "lP8ndYUhXZXW"
      },
      "source": [
        "import numpy as np\n",
        "import pandas as pd\n",
        "import matplotlib.pyplot as plt\n",
        "\n",
        "df = pd.read_csv('/content/sample_data/top50.csv',encoding='latin-1')\n",
        "df.head()\n",
        "df.columns = map(str.lower, df.columns)"
      ],
      "execution_count": null,
      "outputs": []
    },
    {
      "cell_type": "code",
      "metadata": {
        "colab": {
          "base_uri": "https://localhost:8080/",
          "height": 334
        },
        "id": "NzKwgUwvZctC",
        "outputId": "5af11216-a34e-4471-b448-7fe81b2f6e17"
      },
      "source": [
        "##Here we describe the dataset and its included Parameters\n",
        "df.describe()"
      ],
      "execution_count": null,
      "outputs": [
        {
          "output_type": "execute_result",
          "data": {
            "text/html": [
              "<div>\n",
              "<style scoped>\n",
              "    .dataframe tbody tr th:only-of-type {\n",
              "        vertical-align: middle;\n",
              "    }\n",
              "\n",
              "    .dataframe tbody tr th {\n",
              "        vertical-align: top;\n",
              "    }\n",
              "\n",
              "    .dataframe thead th {\n",
              "        text-align: right;\n",
              "    }\n",
              "</style>\n",
              "<table border=\"1\" class=\"dataframe\">\n",
              "  <thead>\n",
              "    <tr style=\"text-align: right;\">\n",
              "      <th></th>\n",
              "      <th>unnamed: 0</th>\n",
              "      <th>beats.per.minute</th>\n",
              "      <th>energy</th>\n",
              "      <th>danceability</th>\n",
              "      <th>loudness..db..</th>\n",
              "      <th>liveness</th>\n",
              "      <th>valence.</th>\n",
              "      <th>length.</th>\n",
              "      <th>acousticness..</th>\n",
              "      <th>speechiness.</th>\n",
              "      <th>popularity</th>\n",
              "    </tr>\n",
              "  </thead>\n",
              "  <tbody>\n",
              "    <tr>\n",
              "      <th>count</th>\n",
              "      <td>50.00000</td>\n",
              "      <td>50.000000</td>\n",
              "      <td>50.000000</td>\n",
              "      <td>50.00000</td>\n",
              "      <td>50.000000</td>\n",
              "      <td>50.000000</td>\n",
              "      <td>50.000000</td>\n",
              "      <td>50.000000</td>\n",
              "      <td>50.000000</td>\n",
              "      <td>50.000000</td>\n",
              "      <td>50.000000</td>\n",
              "    </tr>\n",
              "    <tr>\n",
              "      <th>mean</th>\n",
              "      <td>25.50000</td>\n",
              "      <td>120.060000</td>\n",
              "      <td>64.060000</td>\n",
              "      <td>71.38000</td>\n",
              "      <td>-5.660000</td>\n",
              "      <td>14.660000</td>\n",
              "      <td>54.600000</td>\n",
              "      <td>200.960000</td>\n",
              "      <td>22.160000</td>\n",
              "      <td>12.480000</td>\n",
              "      <td>87.500000</td>\n",
              "    </tr>\n",
              "    <tr>\n",
              "      <th>std</th>\n",
              "      <td>14.57738</td>\n",
              "      <td>30.898392</td>\n",
              "      <td>14.231913</td>\n",
              "      <td>11.92988</td>\n",
              "      <td>2.056448</td>\n",
              "      <td>11.118306</td>\n",
              "      <td>22.336024</td>\n",
              "      <td>39.143879</td>\n",
              "      <td>18.995553</td>\n",
              "      <td>11.161596</td>\n",
              "      <td>4.491489</td>\n",
              "    </tr>\n",
              "    <tr>\n",
              "      <th>min</th>\n",
              "      <td>1.00000</td>\n",
              "      <td>85.000000</td>\n",
              "      <td>32.000000</td>\n",
              "      <td>29.00000</td>\n",
              "      <td>-11.000000</td>\n",
              "      <td>5.000000</td>\n",
              "      <td>10.000000</td>\n",
              "      <td>115.000000</td>\n",
              "      <td>1.000000</td>\n",
              "      <td>3.000000</td>\n",
              "      <td>70.000000</td>\n",
              "    </tr>\n",
              "    <tr>\n",
              "      <th>25%</th>\n",
              "      <td>13.25000</td>\n",
              "      <td>96.000000</td>\n",
              "      <td>55.250000</td>\n",
              "      <td>67.00000</td>\n",
              "      <td>-6.750000</td>\n",
              "      <td>8.000000</td>\n",
              "      <td>38.250000</td>\n",
              "      <td>176.750000</td>\n",
              "      <td>8.250000</td>\n",
              "      <td>5.000000</td>\n",
              "      <td>86.000000</td>\n",
              "    </tr>\n",
              "    <tr>\n",
              "      <th>50%</th>\n",
              "      <td>25.50000</td>\n",
              "      <td>104.500000</td>\n",
              "      <td>66.500000</td>\n",
              "      <td>73.50000</td>\n",
              "      <td>-6.000000</td>\n",
              "      <td>11.000000</td>\n",
              "      <td>55.500000</td>\n",
              "      <td>198.000000</td>\n",
              "      <td>15.000000</td>\n",
              "      <td>7.000000</td>\n",
              "      <td>88.000000</td>\n",
              "    </tr>\n",
              "    <tr>\n",
              "      <th>75%</th>\n",
              "      <td>37.75000</td>\n",
              "      <td>137.500000</td>\n",
              "      <td>74.750000</td>\n",
              "      <td>79.75000</td>\n",
              "      <td>-4.000000</td>\n",
              "      <td>15.750000</td>\n",
              "      <td>69.500000</td>\n",
              "      <td>217.500000</td>\n",
              "      <td>33.750000</td>\n",
              "      <td>15.000000</td>\n",
              "      <td>90.750000</td>\n",
              "    </tr>\n",
              "    <tr>\n",
              "      <th>max</th>\n",
              "      <td>50.00000</td>\n",
              "      <td>190.000000</td>\n",
              "      <td>88.000000</td>\n",
              "      <td>90.00000</td>\n",
              "      <td>-2.000000</td>\n",
              "      <td>58.000000</td>\n",
              "      <td>95.000000</td>\n",
              "      <td>309.000000</td>\n",
              "      <td>75.000000</td>\n",
              "      <td>46.000000</td>\n",
              "      <td>95.000000</td>\n",
              "    </tr>\n",
              "  </tbody>\n",
              "</table>\n",
              "</div>"
            ],
            "text/plain": [
              "       unnamed: 0  beats.per.minute  ...  speechiness.  popularity\n",
              "count    50.00000         50.000000  ...     50.000000   50.000000\n",
              "mean     25.50000        120.060000  ...     12.480000   87.500000\n",
              "std      14.57738         30.898392  ...     11.161596    4.491489\n",
              "min       1.00000         85.000000  ...      3.000000   70.000000\n",
              "25%      13.25000         96.000000  ...      5.000000   86.000000\n",
              "50%      25.50000        104.500000  ...      7.000000   88.000000\n",
              "75%      37.75000        137.500000  ...     15.000000   90.750000\n",
              "max      50.00000        190.000000  ...     46.000000   95.000000\n",
              "\n",
              "[8 rows x 11 columns]"
            ]
          },
          "metadata": {},
          "execution_count": 65
        }
      ]
    },
    {
      "cell_type": "code",
      "metadata": {
        "colab": {
          "base_uri": "https://localhost:8080/"
        },
        "id": "30lwaAaSZmG2",
        "outputId": "2b37485d-2537-42e1-8cd7-23790578a9bc"
      },
      "source": [
        "#With the function info we can see the described data and form of the dataframe and dataset\n",
        "df.info()"
      ],
      "execution_count": null,
      "outputs": [
        {
          "output_type": "stream",
          "name": "stdout",
          "text": [
            "<class 'pandas.core.frame.DataFrame'>\n",
            "RangeIndex: 50 entries, 0 to 49\n",
            "Data columns (total 14 columns):\n",
            " #   Column            Non-Null Count  Dtype \n",
            "---  ------            --------------  ----- \n",
            " 0   unnamed: 0        50 non-null     int64 \n",
            " 1   track.name        50 non-null     object\n",
            " 2   artist.name       50 non-null     object\n",
            " 3   genre             50 non-null     object\n",
            " 4   beats.per.minute  50 non-null     int64 \n",
            " 5   energy            50 non-null     int64 \n",
            " 6   danceability      50 non-null     int64 \n",
            " 7   loudness..db..    50 non-null     int64 \n",
            " 8   liveness          50 non-null     int64 \n",
            " 9   valence.          50 non-null     int64 \n",
            " 10  length.           50 non-null     int64 \n",
            " 11  acousticness..    50 non-null     int64 \n",
            " 12  speechiness.      50 non-null     int64 \n",
            " 13  popularity        50 non-null     int64 \n",
            "dtypes: int64(11), object(3)\n",
            "memory usage: 5.6+ KB\n"
          ]
        }
      ]
    },
    {
      "cell_type": "code",
      "metadata": {
        "colab": {
          "base_uri": "https://localhost:8080/"
        },
        "id": "DRWc-UOjZq4-",
        "outputId": "2cd95d96-b2bc-45c3-d6b8-9c63fedc339f"
      },
      "source": [
        "## we use groupby to group by the artist name and then we check the size of each column\n",
        "## we print out the values to check the data structure\n",
        "print(df.groupby('artist.name').size())\n",
        "popular_artist = df.groupby('artist.name').size()\n",
        "print(popular_artist)\n",
        "artist_list = df['artist.name'].values.tolist()\n"
      ],
      "execution_count": null,
      "outputs": [
        {
          "output_type": "stream",
          "name": "stdout",
          "text": [
            "artist.name\n",
            "Ali Gatie           1\n",
            "Anuel AA            1\n",
            "Ariana Grande       2\n",
            "Bad Bunny           1\n",
            "Billie Eilish       2\n",
            "Chris Brown         1\n",
            "DJ Snake            1\n",
            "Daddy Yankee        1\n",
            "Drake               1\n",
            "Ed Sheeran          4\n",
            "J Balvin            2\n",
            "Jhay Cortez         1\n",
            "Jonas Brothers      1\n",
            "Katy Perry          1\n",
            "Khalid              1\n",
            "Kygo                1\n",
            "Lady Gaga           1\n",
            "Lauv                1\n",
            "Lewis Capaldi       1\n",
            "Lil Nas X           2\n",
            "Lil Tecca           1\n",
            "Lizzo               1\n",
            "Lunay               1\n",
            "MEDUZA              1\n",
            "Maluma              1\n",
            "Marshmello          2\n",
            "Martin Garrix       1\n",
            "Nicky Jam           1\n",
            "Post Malone         2\n",
            "ROSALÍA             1\n",
            "Sam Smith           1\n",
            "Sech                2\n",
            "Shawn Mendes        2\n",
            "Taylor Swift        1\n",
            "The Chainsmokers    2\n",
            "Tones and I         1\n",
            "Y2K                 1\n",
            "Young Thug          1\n",
            "dtype: int64\n",
            "artist.name\n",
            "Ali Gatie           1\n",
            "Anuel AA            1\n",
            "Ariana Grande       2\n",
            "Bad Bunny           1\n",
            "Billie Eilish       2\n",
            "Chris Brown         1\n",
            "DJ Snake            1\n",
            "Daddy Yankee        1\n",
            "Drake               1\n",
            "Ed Sheeran          4\n",
            "J Balvin            2\n",
            "Jhay Cortez         1\n",
            "Jonas Brothers      1\n",
            "Katy Perry          1\n",
            "Khalid              1\n",
            "Kygo                1\n",
            "Lady Gaga           1\n",
            "Lauv                1\n",
            "Lewis Capaldi       1\n",
            "Lil Nas X           2\n",
            "Lil Tecca           1\n",
            "Lizzo               1\n",
            "Lunay               1\n",
            "MEDUZA              1\n",
            "Maluma              1\n",
            "Marshmello          2\n",
            "Martin Garrix       1\n",
            "Nicky Jam           1\n",
            "Post Malone         2\n",
            "ROSALÍA             1\n",
            "Sam Smith           1\n",
            "Sech                2\n",
            "Shawn Mendes        2\n",
            "Taylor Swift        1\n",
            "The Chainsmokers    2\n",
            "Tones and I         1\n",
            "Y2K                 1\n",
            "Young Thug          1\n",
            "dtype: int64\n"
          ]
        }
      ]
    },
    {
      "cell_type": "code",
      "metadata": {
        "colab": {
          "base_uri": "https://localhost:8080/"
        },
        "id": "ozYeq35vdFeI",
        "outputId": "123ecac5-c11d-49d4-c5c4-9946a041bd3c"
      },
      "source": [
        "## Printing genre data\n",
        "\n",
        "print(type(df['Genre']))\n",
        "popular_genre = df.groupby('genre').size().unique\n",
        "print(popular_genre)\n",
        "genre_list = df['Genre'].values.tolist()"
      ],
      "execution_count": null,
      "outputs": [
        {
          "output_type": "stream",
          "name": "stdout",
          "text": [
            "<class 'pandas.core.series.Series'>\n",
            "<bound method Series.unique of Genre\n",
            "atl hip hop         1\n",
            "australian pop      1\n",
            "big room            1\n",
            "boy band            1\n",
            "brostep             2\n",
            "canadian hip hop    3\n",
            "canadian pop        2\n",
            "country rap         2\n",
            "dance pop           8\n",
            "dfw rap             2\n",
            "edm                 3\n",
            "electropop          2\n",
            "escape room         1\n",
            "latin               5\n",
            "panamanian pop      2\n",
            "pop                 7\n",
            "pop house           1\n",
            "r&b en espanol      1\n",
            "reggaeton           2\n",
            "reggaeton flow      2\n",
            "trap music          1\n",
            "dtype: int64>\n"
          ]
        }
      ]
    },
    {
      "cell_type": "code",
      "metadata": {
        "colab": {
          "base_uri": "https://localhost:8080/",
          "height": 522
        },
        "id": "q-AXcwQodoNW",
        "outputId": "4b3124d0-8e83-429f-a5e5-750568a5fb7b"
      },
      "source": [
        "xtick = ['dance pop', 'pop', 'latin', 'edm', 'canadian hip hop',\n",
        "'panamanian pop', 'electropop', 'reggaeton flow', 'canadian pop',\n",
        "'reggaeton', 'dfw rap', 'brostep', 'country rap', 'escape room',\n",
        "'trap music', 'big room', 'boy band', 'pop house', 'australian pop',\n",
        "'r&b en espanol', 'atl hip hop']\n",
        "## We rename the dataset labels then we grounby genre and then we cluster the dataset \n",
        "length = np.arange(len(xtick))\n",
        "genre_groupby = df.groupby('genre')['track_name'].agg(len)\n",
        "\n",
        "# We use plt to plot the data from the librarie matplotlib\n",
        "plt.figure(figsize=(15,7))\n",
        "plt.bar(length, genre_groupby)\n",
        "plt.xticks(length, xtick)\n",
        "plt.xticks(rotation=90)\n",
        "plt.ylabel('genre', fontsize=20)\n",
        "plt.ylabel('Count of the tracks', fontsize=25)"
      ],
      "execution_count": null,
      "outputs": [
        {
          "output_type": "execute_result",
          "data": {
            "text/plain": [
              "Text(0, 0.5, 'Count of the tracks')"
            ]
          },
          "metadata": {},
          "execution_count": 55
        },
        {
          "output_type": "display_data",
          "data": {
            "image/png": "[encoded data removed]",
            "text/plain": [
              "<Figure size 1080x504 with 1 Axes>"
            ]
          },
          "metadata": {
            "needs_background": "light"
          }
        }
      ]
    },
    {
      "cell_type": "code",
      "metadata": {
        "colab": {
          "base_uri": "https://localhost:8080/",
          "height": 579
        },
        "id": "vsmtILQWedXg",
        "outputId": "f64bef02-ac82-45ef-c24f-8be8e9810340"
      },
      "source": [
        "## Here we can see the song account with the artist name cross difference \n",
        "\n",
        "fig = plt.figure(figsize=(10,7))\n",
        "df.groupby('artist.name')['track.name'].agg(len).sort_values(ascending=False).plot(kind='bar')\n",
        "plt.xlabel('Artist Name', fontsize=20)\n",
        "plt.ylabel('Count of songs',fontsize=20)\n",
        "plt.title('Artist Name vs Count of songs', fontsize=30)"
      ],
      "execution_count": null,
      "outputs": [
        {
          "output_type": "execute_result",
          "data": {
            "text/plain": [
              "Text(0.5, 1.0, 'Artist Name vs Count of songs')"
            ]
          },
          "metadata": {},
          "execution_count": 96
        },
        {
          "output_type": "display_data",
          "data": {
            "image/png": "[encoded data removed]",
            "text/plain": [
              "<Figure size 720x504 with 1 Axes>"
            ]
          },
          "metadata": {
            "needs_background": "light"
          }
        }
      ]
    }
  ]
}